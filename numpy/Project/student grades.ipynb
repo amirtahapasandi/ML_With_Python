{
 "cells": [
  {
   "cell_type": "code",
   "execution_count": 4,
   "metadata": {},
   "outputs": [
    {
     "name": "stdout",
     "output_type": "stream",
     "text": [
      "16.26\n"
     ]
    }
   ],
   "source": [
    "import numpy as np\n",
    "\n",
    "grades = np.array([\n",
    "    [20, 20, 20, 20, 20],\n",
    "    [15, 17, 16, 16, 16],\n",
    "    [18, 19, 19, 20, 19],\n",
    "    [14, 13, 14, 15, 14],\n",
    "    [17, 18, 18, 18, 18],\n",
    "    [12, 12, 13, 13, 13],\n",
    "    [15, 16, 15, 15, 14],\n",
    "    [18, 18, 18, 19, 18],\n",
    "    [16, 17, 16, 17, 16],\n",
    "    [13, 13, 14, 14, 14]\n",
    "])\n",
    "\n",
    "average_grades = np.average(grades)\n",
    "print(average_grades)"
   ]
  }
 ],
 "metadata": {
  "kernelspec": {
   "display_name": "Python 3",
   "language": "python",
   "name": "python3"
  },
  "language_info": {
   "codemirror_mode": {
    "name": "ipython",
    "version": 3
   },
   "file_extension": ".py",
   "mimetype": "text/x-python",
   "name": "python",
   "nbconvert_exporter": "python",
   "pygments_lexer": "ipython3",
   "version": "3.10.7"
  }
 },
 "nbformat": 4,
 "nbformat_minor": 2
}
