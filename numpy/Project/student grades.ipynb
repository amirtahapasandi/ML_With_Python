{
 "cells": [
  {
   "cell_type": "markdown",
   "metadata": {},
   "source": [
    "### Average Of Grades"
   ]
  },
  {
   "cell_type": "code",
   "execution_count": 7,
   "metadata": {},
   "outputs": [
    {
     "name": "stdout",
     "output_type": "stream",
     "text": [
      "class average: 16.26\n",
      "stdunet average: [20.  16.  19.  14.  17.8 12.6 15.  18.2 16.4 13.6]\n"
     ]
    }
   ],
   "source": [
    "import numpy as np\n",
    "\n",
    "grades = np.array([\n",
    "    [20, 20, 20, 20, 20],\n",
    "    [15, 17, 16, 16, 16],\n",
    "    [18, 19, 19, 20, 19],\n",
    "    [14, 13, 14, 15, 14],\n",
    "    [17, 18, 18, 18, 18],\n",
    "    [12, 12, 13, 13, 13],\n",
    "    [15, 16, 15, 15, 14],\n",
    "    [18, 18, 18, 19, 18],\n",
    "    [16, 17, 16, 17, 16],\n",
    "    [13, 13, 14, 14, 14]\n",
    "])\n",
    "\n",
    "class_average = np.average(grades)\n",
    "print(f\"class average: {class_average}\")\n",
    "\n",
    "student_average = np.average(grades, axis=1)\n",
    "print(f\"stdunet average: {student_average}\")"
   ]
  },
  {
   "cell_type": "markdown",
   "metadata": {},
   "source": [
    "### Top Student"
   ]
  },
  {
   "cell_type": "code",
   "execution_count": 8,
   "metadata": {},
   "outputs": [
    {
     "name": "stdout",
     "output_type": "stream",
     "text": [
      "Top stduent: [1 3 8]\n"
     ]
    }
   ],
   "source": [
    "top_studnet = np. argsort(student_average)[-3:][::-1]\n",
    "print(f\"Top stduent: {top_studnet + 1}\")"
   ]
  },
  {
   "cell_type": "markdown",
   "metadata": {},
   "source": [
    "### Top Subject & Subject Averages"
   ]
  },
  {
   "cell_type": "code",
   "execution_count": 11,
   "metadata": {},
   "outputs": [
    {
     "name": "stdout",
     "output_type": "stream",
     "text": [
      "subject averages: [15.8 16.3 16.3 16.7 16.2]\n",
      "Top subject: 3\n",
      "Top subject is: Physics\n"
     ]
    }
   ],
   "source": [
    "subject_averages = np.average(grades, axis=0)\n",
    "print(f\"subject averages: {subject_averages}\")\n",
    "\n",
    "top_subject = np.argmax(subject_averages)\n",
    "print(f\"Top subject: {top_subject}\")\n",
    "\n",
    "subjects = [\"Math\", \"Geometry\", \"Statistics and probabality\", \"Physics\", \"Chemistry\"]\n",
    "print(f\"Top subject is: {subjects[top_subject]}\")"
   ]
  },
  {
   "cell_type": "markdown",
   "metadata": {},
   "source": [
    "### Variance of grades and std of grades"
   ]
  },
  {
   "cell_type": "code",
   "execution_count": 13,
   "metadata": {},
   "outputs": [
    {
     "name": "stdout",
     "output_type": "stream",
     "text": [
      "Variance of grades: [5.56 6.81 5.01 5.61 5.36]\n",
      "Standard Devations of grades: [2.35796522 2.60959767 2.23830293 2.36854386 2.31516738]\n"
     ]
    }
   ],
   "source": [
    "varince_of_grades = np.var(grades, axis=0)\n",
    "print(f\"Variance of grades: {varince_of_grades}\")\n",
    "stds = np.std(grades, axis=0)\n",
    "print(f\"Standard Devations of grades: {stds}\")"
   ]
  }
 ],
 "metadata": {
  "kernelspec": {
   "display_name": "Python 3",
   "language": "python",
   "name": "python3"
  },
  "language_info": {
   "codemirror_mode": {
    "name": "ipython",
    "version": 3
   },
   "file_extension": ".py",
   "mimetype": "text/x-python",
   "name": "python",
   "nbconvert_exporter": "python",
   "pygments_lexer": "ipython3",
   "version": "3.10.7"
  }
 },
 "nbformat": 4,
 "nbformat_minor": 2
}
