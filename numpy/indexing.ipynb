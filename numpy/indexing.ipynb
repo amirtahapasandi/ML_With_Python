{
 "cells": [
  {
   "cell_type": "code",
   "execution_count": 1,
   "metadata": {},
   "outputs": [],
   "source": [
    "import numpy as np"
   ]
  },
  {
   "cell_type": "markdown",
   "metadata": {},
   "source": [
    "### Indexing"
   ]
  },
  {
   "cell_type": "code",
   "execution_count": null,
   "metadata": {},
   "outputs": [
    {
     "name": "stdout",
     "output_type": "stream",
     "text": [
      "1\n",
      "1\n",
      "3\n",
      "3\n",
      "5\n",
      "5\n"
     ]
    }
   ],
   "source": [
    "# Define a numpy array\n",
    "arr = np.array([1,2,3,4,5])\n",
    "\n",
    "# Access the first element\n",
    "print(arr[0])\n",
    "# or\n",
    "print(arr[-5])\n",
    "# Access the third element\n",
    "print(arr[2])\n",
    "# or\n",
    "print(arr[-3])\n",
    "# Access the last element\n",
    "print(arr[4])\n",
    "# or \n",
    "print(arr[-1])"
   ]
  },
  {
   "cell_type": "code",
   "execution_count": 19,
   "metadata": {},
   "outputs": [
    {
     "name": "stdout",
     "output_type": "stream",
     "text": [
      "[[1 2 3]\n",
      " [4 5 6]\n",
      " [7 8 9]]\n",
      "1\n",
      "1\n",
      "1\n",
      "1\n",
      "-------------------------------------------------------------------------------------\n",
      "6\n",
      "6\n",
      "6\n",
      "6\n",
      "-------------------------------------------------------------------------------------\n",
      "9\n",
      "9\n",
      "9\n",
      "9\n"
     ]
    }
   ],
   "source": [
    "# Define a 2D numpy array\n",
    "arr_2d = np.array([[1,2,3], [4,5,6], [7,8,9]])\n",
    "print(arr_2d)\n",
    "\n",
    "# Access the first element of the first row\n",
    "print(arr_2d[0, 0])\n",
    "# or\n",
    "print(arr_2d[0,-3])\n",
    "# or\n",
    "print(arr_2d[-3, 0])\n",
    "# or \n",
    "print(arr_2d[-3, -3])\n",
    "print(85*\"-\")\n",
    "# Access the third element of the second row \n",
    "print(arr_2d[1, 2])\n",
    "# or\n",
    "print(arr_2d[1,-1])\n",
    "# or\n",
    "print(arr_2d[-2, 2])\n",
    "# or\n",
    "print(arr_2d[-2, -1])\n",
    "print(85*\"-\")\n",
    "# Access the last element of the last row\n",
    "print(arr_2d[2, 2])\n",
    "# or\n",
    "print(arr_2d[2,-1])\n",
    "# or\n",
    "print(arr_2d[-1, 2])\n",
    "# or\n",
    "print(arr_2d[-1, -1])"
   ]
  }
 ],
 "metadata": {
  "kernelspec": {
   "display_name": "Python 3",
   "language": "python",
   "name": "python3"
  },
  "language_info": {
   "codemirror_mode": {
    "name": "ipython",
    "version": 3
   },
   "file_extension": ".py",
   "mimetype": "text/x-python",
   "name": "python",
   "nbconvert_exporter": "python",
   "pygments_lexer": "ipython3",
   "version": "3.10.7"
  }
 },
 "nbformat": 4,
 "nbformat_minor": 2
}
