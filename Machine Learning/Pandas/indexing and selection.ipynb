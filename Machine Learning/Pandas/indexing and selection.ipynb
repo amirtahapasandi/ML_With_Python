{
 "cells": [
  {
   "cell_type": "markdown",
   "metadata": {},
   "source": [
    "### Indexing and Selection"
   ]
  },
  {
   "cell_type": "code",
   "execution_count": 2,
   "metadata": {},
   "outputs": [
    {
     "name": "stdout",
     "output_type": "stream",
     "text": [
      "Name      Amir\n",
      "GPA      9.999\n",
      "Name: 0, dtype: object\n",
      "      Name     GPA\n",
      "0     Amir   9.999\n",
      "1   Radman    9.99\n",
      "2    Hirad    10.1\n",
      "3   Mazdak   19.75\n",
      "4   Sorena        \n",
      "5  Koroush      20\n",
      "6    Mahsa      20\n",
      "7     Sara    19.5\n",
      "8    Mamad    17.5\n"
     ]
    }
   ],
   "source": [
    "import pandas as pd\n",
    "\n",
    "df = pd.read_csv(\"students.csv\")\n",
    "\n",
    "print(df.loc[0])\n",
    "\n",
    "print(df.iloc[0:, 0:])"
   ]
  }
 ],
 "metadata": {
  "kernelspec": {
   "display_name": "Python 3",
   "language": "python",
   "name": "python3"
  },
  "language_info": {
   "codemirror_mode": {
    "name": "ipython",
    "version": 3
   },
   "file_extension": ".py",
   "mimetype": "text/x-python",
   "name": "python",
   "nbconvert_exporter": "python",
   "pygments_lexer": "ipython3",
   "version": "3.10.7"
  }
 },
 "nbformat": 4,
 "nbformat_minor": 2
}
