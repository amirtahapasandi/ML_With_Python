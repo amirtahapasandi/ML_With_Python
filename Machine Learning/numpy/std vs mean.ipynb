{
 "cells": [
  {
   "cell_type": "markdown",
   "metadata": {},
   "source": [
    "### Mean vs Standard Deviation"
   ]
  },
  {
   "cell_type": "code",
   "execution_count": 2,
   "metadata": {},
   "outputs": [
    {
     "name": "stdout",
     "output_type": "stream",
     "text": [
      "14.0\n",
      "14.0\n",
      "-------------------------------------------------------------------------------------\n",
      "1.4142135623730951\n",
      "4.898979485566356\n"
     ]
    }
   ],
   "source": [
    "import numpy as np\n",
    "\n",
    "class_a = np.array([12, 15, 14, 16, 13])\n",
    "class_b = np.array([10, 20, 10, 20, 10])\n",
    "\n",
    "print(class_a.mean())\n",
    "print(class_b.mean())\n",
    "print(85*\"-\")\n",
    "print(class_a.std())\n",
    "print(class_b.std())"
   ]
  }
 ],
 "metadata": {
  "kernelspec": {
   "display_name": "Python 3",
   "language": "python",
   "name": "python3"
  },
  "language_info": {
   "codemirror_mode": {
    "name": "ipython",
    "version": 3
   },
   "file_extension": ".py",
   "mimetype": "text/x-python",
   "name": "python",
   "nbconvert_exporter": "python",
   "pygments_lexer": "ipython3",
   "version": "3.10.7"
  }
 },
 "nbformat": 4,
 "nbformat_minor": 2
}
