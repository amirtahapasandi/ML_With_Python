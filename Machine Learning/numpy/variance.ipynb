{
 "cells": [
  {
   "cell_type": "markdown",
   "metadata": {},
   "source": [
    "### Variance"
   ]
  },
  {
   "cell_type": "code",
   "execution_count": 2,
   "metadata": {},
   "outputs": [
    {
     "name": "stdout",
     "output_type": "stream",
     "text": [
      "0.6666666666666666\n",
      "0.816496580927726\n",
      "0.816496580927726\n"
     ]
    }
   ],
   "source": [
    "import numpy as np\n",
    "\n",
    "arr =  np.array([1, 2, 3])\n",
    "\n",
    "variance_of_arr = arr.var()\n",
    "print(variance_of_arr)\n",
    "\n",
    "sqrt_of_arr = np.sqrt(variance_of_arr)\n",
    "print(sqrt_of_arr)\n",
    "\n",
    "std_of_arr = arr.std()\n",
    "print(std_of_arr)"
   ]
  }
 ],
 "metadata": {
  "kernelspec": {
   "display_name": "Python 3",
   "language": "python",
   "name": "python3"
  },
  "language_info": {
   "codemirror_mode": {
    "name": "ipython",
    "version": 3
   },
   "file_extension": ".py",
   "mimetype": "text/x-python",
   "name": "python",
   "nbconvert_exporter": "python",
   "pygments_lexer": "ipython3",
   "version": "3.10.7"
  }
 },
 "nbformat": 4,
 "nbformat_minor": 2
}
