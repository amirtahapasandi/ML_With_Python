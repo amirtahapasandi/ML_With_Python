{
 "cells": [
  {
   "cell_type": "code",
   "execution_count": 1,
   "metadata": {},
   "outputs": [],
   "source": [
    "import numpy as np"
   ]
  },
  {
   "cell_type": "code",
   "execution_count": 6,
   "metadata": {},
   "outputs": [
    {
     "name": "stdout",
     "output_type": "stream",
     "text": [
      "[[1 2 3]\n",
      " [4 5 6]]\n"
     ]
    }
   ],
   "source": [
    "arr = np.array([[1,2,3],[4,5,6]])\n",
    "print(arr)"
   ]
  },
  {
   "cell_type": "markdown",
   "metadata": {},
   "source": [
    "### Array Atributes"
   ]
  },
  {
   "cell_type": "code",
   "execution_count": 5,
   "metadata": {},
   "outputs": [
    {
     "name": "stdout",
     "output_type": "stream",
     "text": [
      "Number of dimension: 2\n",
      "Shape of array: (2, 3)\n",
      "Total of elements: 6\n",
      "datatype of array: int64\n"
     ]
    }
   ],
   "source": [
    "# checking number of dimension\n",
    "print(f\"Number of dimension: {arr.ndim}\")\n",
    "\n",
    "# checking shape of the array \n",
    "print(f\"Shape of array: {arr.shape}\")\n",
    "\n",
    "# checking total number of elements \n",
    "print(f\"Total of elements: {arr.size}\")\n",
    "\n",
    "# checking datatype of array\n",
    "print(f\"datatype of array: {arr.dtype}\")"
   ]
  }
 ],
 "metadata": {
  "kernelspec": {
   "display_name": "Python 3",
   "language": "python",
   "name": "python3"
  },
  "language_info": {
   "codemirror_mode": {
    "name": "ipython",
    "version": 3
   },
   "file_extension": ".py",
   "mimetype": "text/x-python",
   "name": "python",
   "nbconvert_exporter": "python",
   "pygments_lexer": "ipython3",
   "version": "3.10.7"
  }
 },
 "nbformat": 4,
 "nbformat_minor": 2
}
